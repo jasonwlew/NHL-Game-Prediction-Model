{
 "cells": [
  {
   "cell_type": "markdown",
   "id": "36eb9cf6",
   "metadata": {},
   "source": [
    "# Statistics & Public Health 2: Data Analysis"
   ]
  },
  {
   "cell_type": "markdown",
   "id": "ac63a1ef",
   "metadata": {},
   "source": [
    "### Author: Jason Lew"
   ]
  },
  {
   "cell_type": "markdown",
   "id": "33c59f39",
   "metadata": {},
   "source": [
    "### Date: 2/26/2024"
   ]
  },
  {
   "cell_type": "markdown",
   "id": "14711774",
   "metadata": {},
   "source": [
    "#### Import Libraries"
   ]
  },
  {
   "cell_type": "code",
   "execution_count": 1,
   "id": "8fe629ec",
   "metadata": {},
   "outputs": [],
   "source": [
    "import numpy as np\n",
    "import pandas as pd\n",
    "import matplotlib.pyplot as plt\n",
    "import seaborn as sns\n",
    "from scipy.stats import pearsonr\n",
    "%matplotlib inline\n",
    "\n",
    "import statsmodels.api as sm"
   ]
  },
  {
   "cell_type": "markdown",
   "id": "4c4a0307",
   "metadata": {},
   "source": [
    "#### Import Dataset"
   ]
  },
  {
   "cell_type": "code",
   "execution_count": 2,
   "id": "cad9f7ed",
   "metadata": {},
   "outputs": [
    {
     "data": {
      "text/html": [
       "<div>\n",
       "<style scoped>\n",
       "    .dataframe tbody tr th:only-of-type {\n",
       "        vertical-align: middle;\n",
       "    }\n",
       "\n",
       "    .dataframe tbody tr th {\n",
       "        vertical-align: top;\n",
       "    }\n",
       "\n",
       "    .dataframe thead th {\n",
       "        text-align: right;\n",
       "    }\n",
       "</style>\n",
       "<table border=\"1\" class=\"dataframe\">\n",
       "  <thead>\n",
       "    <tr style=\"text-align: right;\">\n",
       "      <th></th>\n",
       "      <th>Year</th>\n",
       "      <th>Week</th>\n",
       "      <th>Address Block</th>\n",
       "      <th>Trap</th>\n",
       "      <th>Trap type</th>\n",
       "      <th>Date</th>\n",
       "      <th>Mosquito number</th>\n",
       "      <th>WNV Present</th>\n",
       "      <th>Species</th>\n",
       "      <th>Lat</th>\n",
       "      <th>Lon</th>\n",
       "      <th>Month</th>\n",
       "    </tr>\n",
       "  </thead>\n",
       "  <tbody>\n",
       "    <tr>\n",
       "      <th>0</th>\n",
       "      <td>2019</td>\n",
       "      <td>39</td>\n",
       "      <td>100XX W OHARE AIRPORT</td>\n",
       "      <td>T910</td>\n",
       "      <td>GRAVID</td>\n",
       "      <td>2019-09-26 00:09:00</td>\n",
       "      <td>2</td>\n",
       "      <td>negative</td>\n",
       "      <td>CULEX RESTUANS</td>\n",
       "      <td>41.977738</td>\n",
       "      <td>-87.880969</td>\n",
       "      <td>9</td>\n",
       "    </tr>\n",
       "    <tr>\n",
       "      <th>1</th>\n",
       "      <td>2019</td>\n",
       "      <td>39</td>\n",
       "      <td>52XX S KOLMAR AVE</td>\n",
       "      <td>T114</td>\n",
       "      <td>GRAVID</td>\n",
       "      <td>2019-09-26 00:09:00</td>\n",
       "      <td>1</td>\n",
       "      <td>negative</td>\n",
       "      <td>CULEX RESTUANS</td>\n",
       "      <td>41.798211</td>\n",
       "      <td>-87.736925</td>\n",
       "      <td>9</td>\n",
       "    </tr>\n",
       "    <tr>\n",
       "      <th>2</th>\n",
       "      <td>2019</td>\n",
       "      <td>39</td>\n",
       "      <td>58XX N WESTERN AVE</td>\n",
       "      <td>T028</td>\n",
       "      <td>GRAVID</td>\n",
       "      <td>2019-09-26 00:09:00</td>\n",
       "      <td>2</td>\n",
       "      <td>negative</td>\n",
       "      <td>CULEX RESTUANS</td>\n",
       "      <td>41.987245</td>\n",
       "      <td>-87.689417</td>\n",
       "      <td>9</td>\n",
       "    </tr>\n",
       "    <tr>\n",
       "      <th>3</th>\n",
       "      <td>2019</td>\n",
       "      <td>39</td>\n",
       "      <td>39XX N SPRINGFIELD AVE</td>\n",
       "      <td>T228</td>\n",
       "      <td>GRAVID</td>\n",
       "      <td>2019-09-26 00:09:00</td>\n",
       "      <td>1</td>\n",
       "      <td>negative</td>\n",
       "      <td>CULEX RESTUANS</td>\n",
       "      <td>41.953664</td>\n",
       "      <td>-87.724987</td>\n",
       "      <td>9</td>\n",
       "    </tr>\n",
       "    <tr>\n",
       "      <th>4</th>\n",
       "      <td>2019</td>\n",
       "      <td>39</td>\n",
       "      <td>131XX S BRANDON AVE</td>\n",
       "      <td>T209</td>\n",
       "      <td>GRAVID</td>\n",
       "      <td>2019-09-26 00:09:00</td>\n",
       "      <td>9</td>\n",
       "      <td>negative</td>\n",
       "      <td>CULEX RESTUANS</td>\n",
       "      <td>41.657069</td>\n",
       "      <td>-87.546049</td>\n",
       "      <td>9</td>\n",
       "    </tr>\n",
       "  </tbody>\n",
       "</table>\n",
       "</div>"
      ],
      "text/plain": [
       "   Year  Week           Address Block  Trap Trap type                 Date  \\\n",
       "0  2019    39   100XX W OHARE AIRPORT  T910    GRAVID  2019-09-26 00:09:00   \n",
       "1  2019    39       52XX S KOLMAR AVE  T114    GRAVID  2019-09-26 00:09:00   \n",
       "2  2019    39      58XX N WESTERN AVE  T028    GRAVID  2019-09-26 00:09:00   \n",
       "3  2019    39  39XX N SPRINGFIELD AVE  T228    GRAVID  2019-09-26 00:09:00   \n",
       "4  2019    39     131XX S BRANDON AVE  T209    GRAVID  2019-09-26 00:09:00   \n",
       "\n",
       "   Mosquito number WNV Present         Species        Lat        Lon  Month  \n",
       "0                2    negative  CULEX RESTUANS  41.977738 -87.880969      9  \n",
       "1                1    negative  CULEX RESTUANS  41.798211 -87.736925      9  \n",
       "2                2    negative  CULEX RESTUANS  41.987245 -87.689417      9  \n",
       "3                1    negative  CULEX RESTUANS  41.953664 -87.724987      9  \n",
       "4                9    negative  CULEX RESTUANS  41.657069 -87.546049      9  "
      ]
     },
     "execution_count": 2,
     "metadata": {},
     "output_type": "execute_result"
    }
   ],
   "source": [
    "df = pd.read_csv('mosquito_data_part_2.csv')\n",
    "df.head()"
   ]
  },
  {
   "cell_type": "markdown",
   "id": "462c0e3d",
   "metadata": {},
   "source": [
    "### Part 1 - Basic Analysis"
   ]
  },
  {
   "cell_type": "markdown",
   "id": "2931cd43",
   "metadata": {},
   "source": [
    "#### Question 1 - Convert the WNV Present column into a binary column and create dummy variables from the Trap type column."
   ]
  },
  {
   "cell_type": "code",
   "execution_count": 3,
   "id": "ea1c7921",
   "metadata": {},
   "outputs": [],
   "source": [
    "# Use the 'map' function to convert 'WNV Present' column into binary column\n",
    "df['WNV_Binary'] = df['WNV Present'].map({'negative': 0, 'positive': 1})"
   ]
  },
  {
   "cell_type": "code",
   "execution_count": 4,
   "id": "1b310d9a",
   "metadata": {
    "scrolled": true
   },
   "outputs": [
    {
     "data": {
      "text/html": [
       "<div>\n",
       "<style scoped>\n",
       "    .dataframe tbody tr th:only-of-type {\n",
       "        vertical-align: middle;\n",
       "    }\n",
       "\n",
       "    .dataframe tbody tr th {\n",
       "        vertical-align: top;\n",
       "    }\n",
       "\n",
       "    .dataframe thead th {\n",
       "        text-align: right;\n",
       "    }\n",
       "</style>\n",
       "<table border=\"1\" class=\"dataframe\">\n",
       "  <thead>\n",
       "    <tr style=\"text-align: right;\">\n",
       "      <th></th>\n",
       "      <th>Year</th>\n",
       "      <th>Week</th>\n",
       "      <th>Address Block</th>\n",
       "      <th>Trap</th>\n",
       "      <th>Trap type</th>\n",
       "      <th>Date</th>\n",
       "      <th>Mosquito number</th>\n",
       "      <th>WNV Present</th>\n",
       "      <th>Species</th>\n",
       "      <th>Lat</th>\n",
       "      <th>Lon</th>\n",
       "      <th>Month</th>\n",
       "      <th>WNV_Binary</th>\n",
       "    </tr>\n",
       "  </thead>\n",
       "  <tbody>\n",
       "    <tr>\n",
       "      <th>0</th>\n",
       "      <td>2019</td>\n",
       "      <td>39</td>\n",
       "      <td>100XX W OHARE AIRPORT</td>\n",
       "      <td>T910</td>\n",
       "      <td>GRAVID</td>\n",
       "      <td>2019-09-26 00:09:00</td>\n",
       "      <td>2</td>\n",
       "      <td>negative</td>\n",
       "      <td>CULEX RESTUANS</td>\n",
       "      <td>41.977738</td>\n",
       "      <td>-87.880969</td>\n",
       "      <td>9</td>\n",
       "      <td>0</td>\n",
       "    </tr>\n",
       "    <tr>\n",
       "      <th>1</th>\n",
       "      <td>2019</td>\n",
       "      <td>39</td>\n",
       "      <td>52XX S KOLMAR AVE</td>\n",
       "      <td>T114</td>\n",
       "      <td>GRAVID</td>\n",
       "      <td>2019-09-26 00:09:00</td>\n",
       "      <td>1</td>\n",
       "      <td>negative</td>\n",
       "      <td>CULEX RESTUANS</td>\n",
       "      <td>41.798211</td>\n",
       "      <td>-87.736925</td>\n",
       "      <td>9</td>\n",
       "      <td>0</td>\n",
       "    </tr>\n",
       "    <tr>\n",
       "      <th>2</th>\n",
       "      <td>2019</td>\n",
       "      <td>39</td>\n",
       "      <td>58XX N WESTERN AVE</td>\n",
       "      <td>T028</td>\n",
       "      <td>GRAVID</td>\n",
       "      <td>2019-09-26 00:09:00</td>\n",
       "      <td>2</td>\n",
       "      <td>negative</td>\n",
       "      <td>CULEX RESTUANS</td>\n",
       "      <td>41.987245</td>\n",
       "      <td>-87.689417</td>\n",
       "      <td>9</td>\n",
       "      <td>0</td>\n",
       "    </tr>\n",
       "    <tr>\n",
       "      <th>3</th>\n",
       "      <td>2019</td>\n",
       "      <td>39</td>\n",
       "      <td>39XX N SPRINGFIELD AVE</td>\n",
       "      <td>T228</td>\n",
       "      <td>GRAVID</td>\n",
       "      <td>2019-09-26 00:09:00</td>\n",
       "      <td>1</td>\n",
       "      <td>negative</td>\n",
       "      <td>CULEX RESTUANS</td>\n",
       "      <td>41.953664</td>\n",
       "      <td>-87.724987</td>\n",
       "      <td>9</td>\n",
       "      <td>0</td>\n",
       "    </tr>\n",
       "    <tr>\n",
       "      <th>4</th>\n",
       "      <td>2019</td>\n",
       "      <td>39</td>\n",
       "      <td>131XX S BRANDON AVE</td>\n",
       "      <td>T209</td>\n",
       "      <td>GRAVID</td>\n",
       "      <td>2019-09-26 00:09:00</td>\n",
       "      <td>9</td>\n",
       "      <td>negative</td>\n",
       "      <td>CULEX RESTUANS</td>\n",
       "      <td>41.657069</td>\n",
       "      <td>-87.546049</td>\n",
       "      <td>9</td>\n",
       "      <td>0</td>\n",
       "    </tr>\n",
       "  </tbody>\n",
       "</table>\n",
       "</div>"
      ],
      "text/plain": [
       "   Year  Week           Address Block  Trap Trap type                 Date  \\\n",
       "0  2019    39   100XX W OHARE AIRPORT  T910    GRAVID  2019-09-26 00:09:00   \n",
       "1  2019    39       52XX S KOLMAR AVE  T114    GRAVID  2019-09-26 00:09:00   \n",
       "2  2019    39      58XX N WESTERN AVE  T028    GRAVID  2019-09-26 00:09:00   \n",
       "3  2019    39  39XX N SPRINGFIELD AVE  T228    GRAVID  2019-09-26 00:09:00   \n",
       "4  2019    39     131XX S BRANDON AVE  T209    GRAVID  2019-09-26 00:09:00   \n",
       "\n",
       "   Mosquito number WNV Present         Species        Lat        Lon  Month  \\\n",
       "0                2    negative  CULEX RESTUANS  41.977738 -87.880969      9   \n",
       "1                1    negative  CULEX RESTUANS  41.798211 -87.736925      9   \n",
       "2                2    negative  CULEX RESTUANS  41.987245 -87.689417      9   \n",
       "3                1    negative  CULEX RESTUANS  41.953664 -87.724987      9   \n",
       "4                9    negative  CULEX RESTUANS  41.657069 -87.546049      9   \n",
       "\n",
       "   WNV_Binary  \n",
       "0           0  \n",
       "1           0  \n",
       "2           0  \n",
       "3           0  \n",
       "4           0  "
      ]
     },
     "execution_count": 4,
     "metadata": {},
     "output_type": "execute_result"
    }
   ],
   "source": [
    "# Check to see if new column was created\n",
    "df.head()"
   ]
  },
  {
   "cell_type": "code",
   "execution_count": 5,
   "id": "32913071",
   "metadata": {},
   "outputs": [],
   "source": [
    "# Use the 'get_dummies' function to create dummy variables for the 'Trap type' column\n",
    "trap_dummies = pd.get_dummies(df['Trap type'], prefix='Trap')"
   ]
  },
  {
   "cell_type": "code",
   "execution_count": 6,
   "id": "ea057758",
   "metadata": {},
   "outputs": [],
   "source": [
    "# Concatenate the dummy variables with the original DataFrame\n",
    "df = pd.concat([df, trap_dummies], axis=1)"
   ]
  },
  {
   "cell_type": "code",
   "execution_count": 7,
   "id": "fee2d98e",
   "metadata": {
    "scrolled": true
   },
   "outputs": [
    {
     "data": {
      "text/html": [
       "<div>\n",
       "<style scoped>\n",
       "    .dataframe tbody tr th:only-of-type {\n",
       "        vertical-align: middle;\n",
       "    }\n",
       "\n",
       "    .dataframe tbody tr th {\n",
       "        vertical-align: top;\n",
       "    }\n",
       "\n",
       "    .dataframe thead th {\n",
       "        text-align: right;\n",
       "    }\n",
       "</style>\n",
       "<table border=\"1\" class=\"dataframe\">\n",
       "  <thead>\n",
       "    <tr style=\"text-align: right;\">\n",
       "      <th></th>\n",
       "      <th>Year</th>\n",
       "      <th>Week</th>\n",
       "      <th>Address Block</th>\n",
       "      <th>Trap</th>\n",
       "      <th>Trap type</th>\n",
       "      <th>Date</th>\n",
       "      <th>Mosquito number</th>\n",
       "      <th>WNV Present</th>\n",
       "      <th>Species</th>\n",
       "      <th>Lat</th>\n",
       "      <th>Lon</th>\n",
       "      <th>Month</th>\n",
       "      <th>WNV_Binary</th>\n",
       "      <th>Trap_CDC</th>\n",
       "      <th>Trap_GRAVID</th>\n",
       "      <th>Trap_OVI</th>\n",
       "      <th>Trap_SENTINEL</th>\n",
       "    </tr>\n",
       "  </thead>\n",
       "  <tbody>\n",
       "    <tr>\n",
       "      <th>0</th>\n",
       "      <td>2019</td>\n",
       "      <td>39</td>\n",
       "      <td>100XX W OHARE AIRPORT</td>\n",
       "      <td>T910</td>\n",
       "      <td>GRAVID</td>\n",
       "      <td>2019-09-26 00:09:00</td>\n",
       "      <td>2</td>\n",
       "      <td>negative</td>\n",
       "      <td>CULEX RESTUANS</td>\n",
       "      <td>41.977738</td>\n",
       "      <td>-87.880969</td>\n",
       "      <td>9</td>\n",
       "      <td>0</td>\n",
       "      <td>False</td>\n",
       "      <td>True</td>\n",
       "      <td>False</td>\n",
       "      <td>False</td>\n",
       "    </tr>\n",
       "    <tr>\n",
       "      <th>1</th>\n",
       "      <td>2019</td>\n",
       "      <td>39</td>\n",
       "      <td>52XX S KOLMAR AVE</td>\n",
       "      <td>T114</td>\n",
       "      <td>GRAVID</td>\n",
       "      <td>2019-09-26 00:09:00</td>\n",
       "      <td>1</td>\n",
       "      <td>negative</td>\n",
       "      <td>CULEX RESTUANS</td>\n",
       "      <td>41.798211</td>\n",
       "      <td>-87.736925</td>\n",
       "      <td>9</td>\n",
       "      <td>0</td>\n",
       "      <td>False</td>\n",
       "      <td>True</td>\n",
       "      <td>False</td>\n",
       "      <td>False</td>\n",
       "    </tr>\n",
       "    <tr>\n",
       "      <th>2</th>\n",
       "      <td>2019</td>\n",
       "      <td>39</td>\n",
       "      <td>58XX N WESTERN AVE</td>\n",
       "      <td>T028</td>\n",
       "      <td>GRAVID</td>\n",
       "      <td>2019-09-26 00:09:00</td>\n",
       "      <td>2</td>\n",
       "      <td>negative</td>\n",
       "      <td>CULEX RESTUANS</td>\n",
       "      <td>41.987245</td>\n",
       "      <td>-87.689417</td>\n",
       "      <td>9</td>\n",
       "      <td>0</td>\n",
       "      <td>False</td>\n",
       "      <td>True</td>\n",
       "      <td>False</td>\n",
       "      <td>False</td>\n",
       "    </tr>\n",
       "    <tr>\n",
       "      <th>3</th>\n",
       "      <td>2019</td>\n",
       "      <td>39</td>\n",
       "      <td>39XX N SPRINGFIELD AVE</td>\n",
       "      <td>T228</td>\n",
       "      <td>GRAVID</td>\n",
       "      <td>2019-09-26 00:09:00</td>\n",
       "      <td>1</td>\n",
       "      <td>negative</td>\n",
       "      <td>CULEX RESTUANS</td>\n",
       "      <td>41.953664</td>\n",
       "      <td>-87.724987</td>\n",
       "      <td>9</td>\n",
       "      <td>0</td>\n",
       "      <td>False</td>\n",
       "      <td>True</td>\n",
       "      <td>False</td>\n",
       "      <td>False</td>\n",
       "    </tr>\n",
       "    <tr>\n",
       "      <th>4</th>\n",
       "      <td>2019</td>\n",
       "      <td>39</td>\n",
       "      <td>131XX S BRANDON AVE</td>\n",
       "      <td>T209</td>\n",
       "      <td>GRAVID</td>\n",
       "      <td>2019-09-26 00:09:00</td>\n",
       "      <td>9</td>\n",
       "      <td>negative</td>\n",
       "      <td>CULEX RESTUANS</td>\n",
       "      <td>41.657069</td>\n",
       "      <td>-87.546049</td>\n",
       "      <td>9</td>\n",
       "      <td>0</td>\n",
       "      <td>False</td>\n",
       "      <td>True</td>\n",
       "      <td>False</td>\n",
       "      <td>False</td>\n",
       "    </tr>\n",
       "  </tbody>\n",
       "</table>\n",
       "</div>"
      ],
      "text/plain": [
       "   Year  Week           Address Block  Trap Trap type                 Date  \\\n",
       "0  2019    39   100XX W OHARE AIRPORT  T910    GRAVID  2019-09-26 00:09:00   \n",
       "1  2019    39       52XX S KOLMAR AVE  T114    GRAVID  2019-09-26 00:09:00   \n",
       "2  2019    39      58XX N WESTERN AVE  T028    GRAVID  2019-09-26 00:09:00   \n",
       "3  2019    39  39XX N SPRINGFIELD AVE  T228    GRAVID  2019-09-26 00:09:00   \n",
       "4  2019    39     131XX S BRANDON AVE  T209    GRAVID  2019-09-26 00:09:00   \n",
       "\n",
       "   Mosquito number WNV Present         Species        Lat        Lon  Month  \\\n",
       "0                2    negative  CULEX RESTUANS  41.977738 -87.880969      9   \n",
       "1                1    negative  CULEX RESTUANS  41.798211 -87.736925      9   \n",
       "2                2    negative  CULEX RESTUANS  41.987245 -87.689417      9   \n",
       "3                1    negative  CULEX RESTUANS  41.953664 -87.724987      9   \n",
       "4                9    negative  CULEX RESTUANS  41.657069 -87.546049      9   \n",
       "\n",
       "   WNV_Binary  Trap_CDC  Trap_GRAVID  Trap_OVI  Trap_SENTINEL  \n",
       "0           0     False         True     False          False  \n",
       "1           0     False         True     False          False  \n",
       "2           0     False         True     False          False  \n",
       "3           0     False         True     False          False  \n",
       "4           0     False         True     False          False  "
      ]
     },
     "execution_count": 7,
     "metadata": {},
     "output_type": "execute_result"
    }
   ],
   "source": [
    "# Check and see if new columns were created\n",
    "df.head()"
   ]
  },
  {
   "cell_type": "code",
   "execution_count": 8,
   "id": "9756fdc2",
   "metadata": {},
   "outputs": [],
   "source": [
    "# Drop original columns\n",
    "df = df.drop(['WNV Present', 'Trap type'], axis=1)"
   ]
  },
  {
   "cell_type": "code",
   "execution_count": 9,
   "id": "9bc4d50a",
   "metadata": {},
   "outputs": [
    {
     "data": {
      "text/html": [
       "<div>\n",
       "<style scoped>\n",
       "    .dataframe tbody tr th:only-of-type {\n",
       "        vertical-align: middle;\n",
       "    }\n",
       "\n",
       "    .dataframe tbody tr th {\n",
       "        vertical-align: top;\n",
       "    }\n",
       "\n",
       "    .dataframe thead th {\n",
       "        text-align: right;\n",
       "    }\n",
       "</style>\n",
       "<table border=\"1\" class=\"dataframe\">\n",
       "  <thead>\n",
       "    <tr style=\"text-align: right;\">\n",
       "      <th></th>\n",
       "      <th>Year</th>\n",
       "      <th>Week</th>\n",
       "      <th>Address Block</th>\n",
       "      <th>Trap</th>\n",
       "      <th>Date</th>\n",
       "      <th>Mosquito number</th>\n",
       "      <th>Species</th>\n",
       "      <th>Lat</th>\n",
       "      <th>Lon</th>\n",
       "      <th>Month</th>\n",
       "      <th>WNV_Binary</th>\n",
       "      <th>Trap_CDC</th>\n",
       "      <th>Trap_GRAVID</th>\n",
       "      <th>Trap_OVI</th>\n",
       "      <th>Trap_SENTINEL</th>\n",
       "    </tr>\n",
       "  </thead>\n",
       "  <tbody>\n",
       "    <tr>\n",
       "      <th>0</th>\n",
       "      <td>2019</td>\n",
       "      <td>39</td>\n",
       "      <td>100XX W OHARE AIRPORT</td>\n",
       "      <td>T910</td>\n",
       "      <td>2019-09-26 00:09:00</td>\n",
       "      <td>2</td>\n",
       "      <td>CULEX RESTUANS</td>\n",
       "      <td>41.977738</td>\n",
       "      <td>-87.880969</td>\n",
       "      <td>9</td>\n",
       "      <td>0</td>\n",
       "      <td>False</td>\n",
       "      <td>True</td>\n",
       "      <td>False</td>\n",
       "      <td>False</td>\n",
       "    </tr>\n",
       "    <tr>\n",
       "      <th>1</th>\n",
       "      <td>2019</td>\n",
       "      <td>39</td>\n",
       "      <td>52XX S KOLMAR AVE</td>\n",
       "      <td>T114</td>\n",
       "      <td>2019-09-26 00:09:00</td>\n",
       "      <td>1</td>\n",
       "      <td>CULEX RESTUANS</td>\n",
       "      <td>41.798211</td>\n",
       "      <td>-87.736925</td>\n",
       "      <td>9</td>\n",
       "      <td>0</td>\n",
       "      <td>False</td>\n",
       "      <td>True</td>\n",
       "      <td>False</td>\n",
       "      <td>False</td>\n",
       "    </tr>\n",
       "    <tr>\n",
       "      <th>2</th>\n",
       "      <td>2019</td>\n",
       "      <td>39</td>\n",
       "      <td>58XX N WESTERN AVE</td>\n",
       "      <td>T028</td>\n",
       "      <td>2019-09-26 00:09:00</td>\n",
       "      <td>2</td>\n",
       "      <td>CULEX RESTUANS</td>\n",
       "      <td>41.987245</td>\n",
       "      <td>-87.689417</td>\n",
       "      <td>9</td>\n",
       "      <td>0</td>\n",
       "      <td>False</td>\n",
       "      <td>True</td>\n",
       "      <td>False</td>\n",
       "      <td>False</td>\n",
       "    </tr>\n",
       "    <tr>\n",
       "      <th>3</th>\n",
       "      <td>2019</td>\n",
       "      <td>39</td>\n",
       "      <td>39XX N SPRINGFIELD AVE</td>\n",
       "      <td>T228</td>\n",
       "      <td>2019-09-26 00:09:00</td>\n",
       "      <td>1</td>\n",
       "      <td>CULEX RESTUANS</td>\n",
       "      <td>41.953664</td>\n",
       "      <td>-87.724987</td>\n",
       "      <td>9</td>\n",
       "      <td>0</td>\n",
       "      <td>False</td>\n",
       "      <td>True</td>\n",
       "      <td>False</td>\n",
       "      <td>False</td>\n",
       "    </tr>\n",
       "    <tr>\n",
       "      <th>4</th>\n",
       "      <td>2019</td>\n",
       "      <td>39</td>\n",
       "      <td>131XX S BRANDON AVE</td>\n",
       "      <td>T209</td>\n",
       "      <td>2019-09-26 00:09:00</td>\n",
       "      <td>9</td>\n",
       "      <td>CULEX RESTUANS</td>\n",
       "      <td>41.657069</td>\n",
       "      <td>-87.546049</td>\n",
       "      <td>9</td>\n",
       "      <td>0</td>\n",
       "      <td>False</td>\n",
       "      <td>True</td>\n",
       "      <td>False</td>\n",
       "      <td>False</td>\n",
       "    </tr>\n",
       "  </tbody>\n",
       "</table>\n",
       "</div>"
      ],
      "text/plain": [
       "   Year  Week           Address Block  Trap                 Date  \\\n",
       "0  2019    39   100XX W OHARE AIRPORT  T910  2019-09-26 00:09:00   \n",
       "1  2019    39       52XX S KOLMAR AVE  T114  2019-09-26 00:09:00   \n",
       "2  2019    39      58XX N WESTERN AVE  T028  2019-09-26 00:09:00   \n",
       "3  2019    39  39XX N SPRINGFIELD AVE  T228  2019-09-26 00:09:00   \n",
       "4  2019    39     131XX S BRANDON AVE  T209  2019-09-26 00:09:00   \n",
       "\n",
       "   Mosquito number         Species        Lat        Lon  Month  WNV_Binary  \\\n",
       "0                2  CULEX RESTUANS  41.977738 -87.880969      9           0   \n",
       "1                1  CULEX RESTUANS  41.798211 -87.736925      9           0   \n",
       "2                2  CULEX RESTUANS  41.987245 -87.689417      9           0   \n",
       "3                1  CULEX RESTUANS  41.953664 -87.724987      9           0   \n",
       "4                9  CULEX RESTUANS  41.657069 -87.546049      9           0   \n",
       "\n",
       "   Trap_CDC  Trap_GRAVID  Trap_OVI  Trap_SENTINEL  \n",
       "0     False         True     False          False  \n",
       "1     False         True     False          False  \n",
       "2     False         True     False          False  \n",
       "3     False         True     False          False  \n",
       "4     False         True     False          False  "
      ]
     },
     "execution_count": 9,
     "metadata": {},
     "output_type": "execute_result"
    }
   ],
   "source": [
    "# Check if columns were dropped\n",
    "df.head()"
   ]
  },
  {
   "cell_type": "markdown",
   "id": "b898f737",
   "metadata": {},
   "source": [
    "#### Question 2 - What is the average number of mosquitoes for each month? What trends do you notice?"
   ]
  },
  {
   "cell_type": "code",
   "execution_count": 10,
   "id": "654e2f54",
   "metadata": {},
   "outputs": [],
   "source": [
    "# Make sure date column is in datetime format\n",
    "df['Date'] = pd.to_datetime(df['Date'])"
   ]
  },
  {
   "cell_type": "code",
   "execution_count": 11,
   "id": "5028141d",
   "metadata": {
    "scrolled": false
   },
   "outputs": [
    {
     "name": "stdout",
     "output_type": "stream",
     "text": [
      "<class 'pandas.core.frame.DataFrame'>\n",
      "RangeIndex: 18495 entries, 0 to 18494\n",
      "Data columns (total 15 columns):\n",
      " #   Column           Non-Null Count  Dtype         \n",
      "---  ------           --------------  -----         \n",
      " 0   Year             18495 non-null  int64         \n",
      " 1   Week             18495 non-null  int64         \n",
      " 2   Address Block    18495 non-null  object        \n",
      " 3   Trap             18495 non-null  object        \n",
      " 4   Date             18495 non-null  datetime64[ns]\n",
      " 5   Mosquito number  18495 non-null  int64         \n",
      " 6   Species          18495 non-null  object        \n",
      " 7   Lat              18495 non-null  float64       \n",
      " 8   Lon              18495 non-null  float64       \n",
      " 9   Month            18495 non-null  int64         \n",
      " 10  WNV_Binary       18495 non-null  int64         \n",
      " 11  Trap_CDC         18495 non-null  bool          \n",
      " 12  Trap_GRAVID      18495 non-null  bool          \n",
      " 13  Trap_OVI         18495 non-null  bool          \n",
      " 14  Trap_SENTINEL    18495 non-null  bool          \n",
      "dtypes: bool(4), datetime64[ns](1), float64(2), int64(5), object(3)\n",
      "memory usage: 1.6+ MB\n"
     ]
    }
   ],
   "source": [
    "# Check to see if converted to datetime format\n",
    "df.info()"
   ]
  },
  {
   "cell_type": "code",
   "execution_count": 12,
   "id": "f49d8a1b",
   "metadata": {
    "scrolled": true
   },
   "outputs": [
    {
     "data": {
      "text/plain": [
       "Month\n",
       "5      2.761905\n",
       "6     10.264442\n",
       "7     11.551879\n",
       "8     12.111321\n",
       "9      8.394973\n",
       "10     5.377778\n",
       "Name: Mosquito number, dtype: float64"
      ]
     },
     "execution_count": 12,
     "metadata": {},
     "output_type": "execute_result"
    }
   ],
   "source": [
    "# Group by month and calculate the average number of mosquitoes for each month\n",
    "avg_mosquitoes_per_month = df.groupby('Month')['Mosquito number'].mean()\n",
    "avg_mosquitoes_per_month"
   ]
  },
  {
   "cell_type": "code",
   "execution_count": 13,
   "id": "8837c6b1",
   "metadata": {},
   "outputs": [
    {
     "data": {
      "image/png": "[encoded data removed]",
      "text/plain": [
       "<Figure size 640x480 with 1 Axes>"
      ]
     },
     "metadata": {},
     "output_type": "display_data"
    }
   ],
   "source": [
    "# Plot the data to analyze trends\n",
    "\n",
    "avg_mosquitoes_per_month.plot(kind='bar')\n",
    "plt.xlabel('Month')\n",
    "plt.ylabel('Average Mosquitoes')\n",
    "plt.title('Average Number of Mosquitoes for Each Month')\n",
    "plt.show()\n",
    "\n",
    "# The month with the most average number of mosquitoes was Month 8(August), and the month with the least was Month 5(May).\n",
    "# Average number of mosquitoes starts low at month 5 with 3 and gradual increases to a peak at month 8 with 12\n",
    "# After month 8 the model regresses and the average number of mosquitoes decreases for each following month"
   ]
  },
  {
   "cell_type": "markdown",
   "id": "1701f746",
   "metadata": {},
   "source": [
    "### Part 2 - Statistical Analysis"
   ]
  },
  {
   "cell_type": "markdown",
   "id": "342dcb9f",
   "metadata": {},
   "source": [
    "#### Question 1 - Is there a statistically significant difference between the different mosquito species when looking at the occurrence of West Nile Virus?"
   ]
  },
  {
   "cell_type": "code",
   "execution_count": 14,
   "id": "12e24a8c",
   "metadata": {
    "scrolled": true
   },
   "outputs": [
    {
     "data": {
      "text/html": [
       "<div>\n",
       "<style scoped>\n",
       "    .dataframe tbody tr th:only-of-type {\n",
       "        vertical-align: middle;\n",
       "    }\n",
       "\n",
       "    .dataframe tbody tr th {\n",
       "        vertical-align: top;\n",
       "    }\n",
       "\n",
       "    .dataframe thead th {\n",
       "        text-align: right;\n",
       "    }\n",
       "</style>\n",
       "<table border=\"1\" class=\"dataframe\">\n",
       "  <thead>\n",
       "    <tr style=\"text-align: right;\">\n",
       "      <th>WNV_Binary</th>\n",
       "      <th>0</th>\n",
       "      <th>1</th>\n",
       "    </tr>\n",
       "    <tr>\n",
       "      <th>Species</th>\n",
       "      <th></th>\n",
       "      <th></th>\n",
       "    </tr>\n",
       "  </thead>\n",
       "  <tbody>\n",
       "    <tr>\n",
       "      <th>CULEX PIPIENS</th>\n",
       "      <td>4074</td>\n",
       "      <td>1412</td>\n",
       "    </tr>\n",
       "    <tr>\n",
       "      <th>CULEX RESTUANS</th>\n",
       "      <td>9309</td>\n",
       "      <td>2557</td>\n",
       "    </tr>\n",
       "    <tr>\n",
       "      <th>CULEX SALINARIUS</th>\n",
       "      <td>215</td>\n",
       "      <td>11</td>\n",
       "    </tr>\n",
       "    <tr>\n",
       "      <th>CULEX TERRITANS</th>\n",
       "      <td>903</td>\n",
       "      <td>14</td>\n",
       "    </tr>\n",
       "  </tbody>\n",
       "</table>\n",
       "</div>"
      ],
      "text/plain": [
       "WNV_Binary           0     1\n",
       "Species                     \n",
       "CULEX PIPIENS     4074  1412\n",
       "CULEX RESTUANS    9309  2557\n",
       "CULEX SALINARIUS   215    11\n",
       "CULEX TERRITANS    903    14"
      ]
     },
     "execution_count": 14,
     "metadata": {},
     "output_type": "execute_result"
    }
   ],
   "source": [
    "# Create a contingency table\n",
    "contingency_table = pd.crosstab(df['Species'], df['WNV_Binary'])\n",
    "contingency_table"
   ]
  },
  {
   "cell_type": "code",
   "execution_count": 15,
   "id": "6beb1479",
   "metadata": {
    "scrolled": true
   },
   "outputs": [
    {
     "name": "stdout",
     "output_type": "stream",
     "text": [
      "3.9302341764409087e-67\n"
     ]
    }
   ],
   "source": [
    "# Use Chi-Square Test\n",
    "from scipy.stats import chi2_contingency\n",
    "chi2, p, _, _ = chi2_contingency(contingency_table)\n",
    "print (p)"
   ]
  },
  {
   "cell_type": "code",
   "execution_count": 16,
   "id": "ea1cea19",
   "metadata": {
    "scrolled": false
   },
   "outputs": [
    {
     "data": {
      "image/png": "[encoded data removed]",
      "text/plain": [
       "<Figure size 640x480 with 1 Axes>"
      ]
     },
     "metadata": {},
     "output_type": "display_data"
    }
   ],
   "source": [
    "# Visualize the data\n",
    "\n",
    "sns.countplot(x='Species', hue='WNV_Binary', data=df)\n",
    "plt.show()"
   ]
  },
  {
   "cell_type": "markdown",
   "id": "c7c196cf",
   "metadata": {},
   "source": [
    "#### Based on the visualized data and the p value being less than the 0.05 threshold we can conclude that there is a statistically significant difference between mosquito species and West Nile Virus Present"
   ]
  },
  {
   "cell_type": "markdown",
   "id": "2ea35bc8",
   "metadata": {},
   "source": [
    "#### Question 2 - Which columns are positively correlated with the number of mosquitoes caught? Which columns are negatively correlated? Are these correlations statistically significant?"
   ]
  },
  {
   "cell_type": "code",
   "execution_count": 17,
   "id": "4809e3c8",
   "metadata": {
    "scrolled": true
   },
   "outputs": [
    {
     "data": {
      "text/plain": [
       "Year               0.129326\n",
       "Week              -0.033900\n",
       "Mosquito number    1.000000\n",
       "Lat                0.096820\n",
       "Lon               -0.151421\n",
       "Month             -0.040426\n",
       "WNV_Binary         0.408034\n",
       "Trap_CDC           0.094147\n",
       "Trap_GRAVID       -0.138275\n",
       "Trap_OVI          -0.005392\n",
       "Trap_SENTINEL      0.108575\n",
       "Name: Mosquito number, dtype: float64"
      ]
     },
     "execution_count": 17,
     "metadata": {},
     "output_type": "execute_result"
    }
   ],
   "source": [
    "# Calculate correlations\n",
    "correlations = df.corr(numeric_only=True)['Mosquito number']\n",
    "correlations"
   ]
  },
  {
   "cell_type": "code",
   "execution_count": 18,
   "id": "dda8ee9c",
   "metadata": {
    "scrolled": true
   },
   "outputs": [
    {
     "name": "stdout",
     "output_type": "stream",
     "text": [
      "Index(['Year', 'Mosquito number', 'Lat', 'WNV_Binary', 'Trap_CDC',\n",
      "       'Trap_SENTINEL'],\n",
      "      dtype='object')\n",
      "Index(['Week', 'Lon', 'Month', 'Trap_GRAVID', 'Trap_OVI'], dtype='object')\n"
     ]
    }
   ],
   "source": [
    "# Identify positively and negatively correalted columns\n",
    "positively_correlated = correlations[correlations > 0].index\n",
    "negatively_correlated = correlations[correlations < 0].index\n",
    "print (positively_correlated)\n",
    "print (negatively_correlated)\n",
    "# Positively correlated columns are: Year, Mosquito number, Last, WNV_Binary, Trap_CDC, and Trap_Sentinel\n",
    "# Negatively correlated columns are: Week, Lon, Month, Trap_Gravid, and Trap_OVI"
   ]
  },
  {
   "cell_type": "code",
   "execution_count": 19,
   "id": "906351c7",
   "metadata": {
    "scrolled": true
   },
   "outputs": [
    {
     "name": "stdout",
     "output_type": "stream",
     "text": [
      "Year: Correlation = 0.12932594549371046, p-value = 8.39305001670708e-70\n",
      "Mosquito number: Correlation = 1.0, p-value = 0.0\n",
      "Lat: Correlation = 0.09681989674648904, p-value = 9.096861337941079e-40\n",
      "WNV_Binary: Correlation = 0.4080343968902988, p-value = 0.0\n",
      "Trap_CDC: Correlation = 0.09414701564247448, p-value = 1.0952570288059922e-37\n",
      "Trap_SENTINEL: Correlation = 0.10857486046661546, p-value = 1.289396369672207e-49\n"
     ]
    }
   ],
   "source": [
    "# Test statistical significance using 'pearsonr' function\n",
    "for column in positively_correlated:\n",
    "    corr_coefficient, p_value = pearsonr(df[column], df['Mosquito number'])\n",
    "    print(f\"{column}: Correlation = {corr_coefficient}, p-value = {p_value}\")"
   ]
  },
  {
   "cell_type": "code",
   "execution_count": 20,
   "id": "b3ed07f1",
   "metadata": {
    "scrolled": true
   },
   "outputs": [
    {
     "name": "stdout",
     "output_type": "stream",
     "text": [
      "Week: Correlation = -0.033899607544960825, p-value = 4.002824803746224e-06\n",
      "Lon: Correlation = -0.15142112596890905, p-value = 2.765603982232105e-95\n",
      "Month: Correlation = -0.0404264371966008, p-value = 3.803875521130299e-08\n",
      "Trap_GRAVID: Correlation = -0.1382747912769916, p-value = 1.2678161470845446e-79\n",
      "Trap_OVI: Correlation = -0.005391611231865274, p-value = 0.4634394584475857\n"
     ]
    }
   ],
   "source": [
    "for column in negatively_correlated:\n",
    "    corr_coefficient, p_value = pearsonr(df[column], df['Mosquito number'])\n",
    "    print(f\"{column}: Correlation = {corr_coefficient}, p-value = {p_value}\")"
   ]
  },
  {
   "cell_type": "code",
   "execution_count": 21,
   "id": "ec7da465",
   "metadata": {},
   "outputs": [],
   "source": [
    "# Every column except Trap_OVI has a p-value below the 0.05 threshold, therefore the correlation is considered statistically significant"
   ]
  },
  {
   "cell_type": "markdown",
   "id": "876a0443",
   "metadata": {},
   "source": [
    "### Part 3 - Advanced Statistical Analysis"
   ]
  },
  {
   "cell_type": "markdown",
   "id": "3f69eecc",
   "metadata": {},
   "source": [
    "#### Question 1 - Run a linear regression to determine how the independent variables affect the number of mosquitoes caught. Explain your model construction process. Analyze the model and the results and discuss the model’s limitations. This may end up being an iterative process."
   ]
  },
  {
   "cell_type": "code",
   "execution_count": 22,
   "id": "695e183c",
   "metadata": {},
   "outputs": [],
   "source": [
    "# Separate independent from dependent variable\n",
    "X = df[['Year', 'Week','Month']]\n",
    "y = df['Mosquito number']"
   ]
  },
  {
   "cell_type": "code",
   "execution_count": 23,
   "id": "56d6670c",
   "metadata": {
    "scrolled": false
   },
   "outputs": [
    {
     "data": {
      "image/png": "[encoded data removed]",
      "text/plain": [
       "<Figure size 400x200 with 1 Axes>"
      ]
     },
     "metadata": {},
     "output_type": "display_data"
    },
    {
     "data": {
      "image/png": "[encoded data removed]",
      "text/plain": [
       "<Figure size 400x200 with 1 Axes>"
      ]
     },
     "metadata": {},
     "output_type": "display_data"
    },
    {
     "data": {
      "image/png": "[encoded data removed]",
      "text/plain": [
       "<Figure size 400x200 with 1 Axes>"
      ]
     },
     "metadata": {},
     "output_type": "display_data"
    }
   ],
   "source": [
    "# Create plots\n",
    "for col in X.columns: \n",
    "    plt.figure(figsize=(4,2))\n",
    "    plt.scatter(X[col], y)\n",
    "    plt.ylabel('Mosquito Number')\n",
    "    plt.xlabel(col)\n",
    "    plt.show()"
   ]
  },
  {
   "cell_type": "code",
   "execution_count": 24,
   "id": "6e39c9db",
   "metadata": {
    "scrolled": false
   },
   "outputs": [
    {
     "data": {
      "text/html": [
       "<div>\n",
       "<style scoped>\n",
       "    .dataframe tbody tr th:only-of-type {\n",
       "        vertical-align: middle;\n",
       "    }\n",
       "\n",
       "    .dataframe tbody tr th {\n",
       "        vertical-align: top;\n",
       "    }\n",
       "\n",
       "    .dataframe thead th {\n",
       "        text-align: right;\n",
       "    }\n",
       "</style>\n",
       "<table border=\"1\" class=\"dataframe\">\n",
       "  <thead>\n",
       "    <tr style=\"text-align: right;\">\n",
       "      <th></th>\n",
       "      <th>const</th>\n",
       "      <th>Year</th>\n",
       "      <th>Week</th>\n",
       "      <th>Month</th>\n",
       "    </tr>\n",
       "  </thead>\n",
       "  <tbody>\n",
       "    <tr>\n",
       "      <th>0</th>\n",
       "      <td>1.0</td>\n",
       "      <td>2019</td>\n",
       "      <td>39</td>\n",
       "      <td>9</td>\n",
       "    </tr>\n",
       "    <tr>\n",
       "      <th>1</th>\n",
       "      <td>1.0</td>\n",
       "      <td>2019</td>\n",
       "      <td>39</td>\n",
       "      <td>9</td>\n",
       "    </tr>\n",
       "    <tr>\n",
       "      <th>2</th>\n",
       "      <td>1.0</td>\n",
       "      <td>2019</td>\n",
       "      <td>39</td>\n",
       "      <td>9</td>\n",
       "    </tr>\n",
       "    <tr>\n",
       "      <th>3</th>\n",
       "      <td>1.0</td>\n",
       "      <td>2019</td>\n",
       "      <td>39</td>\n",
       "      <td>9</td>\n",
       "    </tr>\n",
       "    <tr>\n",
       "      <th>4</th>\n",
       "      <td>1.0</td>\n",
       "      <td>2019</td>\n",
       "      <td>39</td>\n",
       "      <td>9</td>\n",
       "    </tr>\n",
       "    <tr>\n",
       "      <th>...</th>\n",
       "      <td>...</td>\n",
       "      <td>...</td>\n",
       "      <td>...</td>\n",
       "      <td>...</td>\n",
       "    </tr>\n",
       "    <tr>\n",
       "      <th>18490</th>\n",
       "      <td>1.0</td>\n",
       "      <td>2016</td>\n",
       "      <td>36</td>\n",
       "      <td>9</td>\n",
       "    </tr>\n",
       "    <tr>\n",
       "      <th>18491</th>\n",
       "      <td>1.0</td>\n",
       "      <td>2007</td>\n",
       "      <td>34</td>\n",
       "      <td>8</td>\n",
       "    </tr>\n",
       "    <tr>\n",
       "      <th>18492</th>\n",
       "      <td>1.0</td>\n",
       "      <td>2016</td>\n",
       "      <td>30</td>\n",
       "      <td>7</td>\n",
       "    </tr>\n",
       "    <tr>\n",
       "      <th>18493</th>\n",
       "      <td>1.0</td>\n",
       "      <td>2017</td>\n",
       "      <td>33</td>\n",
       "      <td>8</td>\n",
       "    </tr>\n",
       "    <tr>\n",
       "      <th>18494</th>\n",
       "      <td>1.0</td>\n",
       "      <td>2015</td>\n",
       "      <td>33</td>\n",
       "      <td>8</td>\n",
       "    </tr>\n",
       "  </tbody>\n",
       "</table>\n",
       "<p>18495 rows × 4 columns</p>\n",
       "</div>"
      ],
      "text/plain": [
       "       const  Year  Week  Month\n",
       "0        1.0  2019    39      9\n",
       "1        1.0  2019    39      9\n",
       "2        1.0  2019    39      9\n",
       "3        1.0  2019    39      9\n",
       "4        1.0  2019    39      9\n",
       "...      ...   ...   ...    ...\n",
       "18490    1.0  2016    36      9\n",
       "18491    1.0  2007    34      8\n",
       "18492    1.0  2016    30      7\n",
       "18493    1.0  2017    33      8\n",
       "18494    1.0  2015    33      8\n",
       "\n",
       "[18495 rows x 4 columns]"
      ]
     },
     "execution_count": 24,
     "metadata": {},
     "output_type": "execute_result"
    }
   ],
   "source": [
    "# Create constant\n",
    "X_withconstant = sm.add_constant(X)\n",
    "X_withconstant"
   ]
  },
  {
   "cell_type": "code",
   "execution_count": 25,
   "id": "b2305f16",
   "metadata": {
    "scrolled": true
   },
   "outputs": [
    {
     "data": {
      "text/html": [
       "<table class=\"simpletable\">\n",
       "<caption>OLS Regression Results</caption>\n",
       "<tr>\n",
       "  <th>Dep. Variable:</th>     <td>Mosquito number</td> <th>  R-squared:         </th> <td>   0.018</td> \n",
       "</tr>\n",
       "<tr>\n",
       "  <th>Model:</th>                   <td>OLS</td>       <th>  Adj. R-squared:    </th> <td>   0.018</td> \n",
       "</tr>\n",
       "<tr>\n",
       "  <th>Method:</th>             <td>Least Squares</td>  <th>  F-statistic:       </th> <td>   111.2</td> \n",
       "</tr>\n",
       "<tr>\n",
       "  <th>Date:</th>             <td>Mon, 26 Feb 2024</td> <th>  Prob (F-statistic):</th> <td>2.42e-71</td> \n",
       "</tr>\n",
       "<tr>\n",
       "  <th>Time:</th>                 <td>01:17:19</td>     <th>  Log-Likelihood:    </th> <td> -74180.</td> \n",
       "</tr>\n",
       "<tr>\n",
       "  <th>No. Observations:</th>      <td> 18495</td>      <th>  AIC:               </th> <td>1.484e+05</td>\n",
       "</tr>\n",
       "<tr>\n",
       "  <th>Df Residuals:</th>          <td> 18491</td>      <th>  BIC:               </th> <td>1.484e+05</td>\n",
       "</tr>\n",
       "<tr>\n",
       "  <th>Df Model:</th>              <td>     3</td>      <th>                     </th>     <td> </td>    \n",
       "</tr>\n",
       "<tr>\n",
       "  <th>Covariance Type:</th>      <td>nonrobust</td>    <th>                     </th>     <td> </td>    \n",
       "</tr>\n",
       "</table>\n",
       "<table class=\"simpletable\">\n",
       "<tr>\n",
       "    <td></td>       <th>coef</th>     <th>std err</th>      <th>t</th>      <th>P>|t|</th>  <th>[0.025</th>    <th>0.975]</th>  \n",
       "</tr>\n",
       "<tr>\n",
       "  <th>const</th> <td> -934.1185</td> <td>   54.901</td> <td>  -17.015</td> <td> 0.000</td> <td>-1041.730</td> <td> -826.507</td>\n",
       "</tr>\n",
       "<tr>\n",
       "  <th>Year</th>  <td>    0.4708</td> <td>    0.027</td> <td>   17.291</td> <td> 0.000</td> <td>    0.417</td> <td>    0.524</td>\n",
       "</tr>\n",
       "<tr>\n",
       "  <th>Week</th>  <td>   -0.1552</td> <td>    0.074</td> <td>   -2.101</td> <td> 0.036</td> <td>   -0.300</td> <td>   -0.010</td>\n",
       "</tr>\n",
       "<tr>\n",
       "  <th>Month</th> <td>    0.2706</td> <td>    0.322</td> <td>    0.840</td> <td> 0.401</td> <td>   -0.361</td> <td>    0.902</td>\n",
       "</tr>\n",
       "</table>\n",
       "<table class=\"simpletable\">\n",
       "<tr>\n",
       "  <th>Omnibus:</th>       <td>5053.221</td> <th>  Durbin-Watson:     </th> <td>   1.516</td> \n",
       "</tr>\n",
       "<tr>\n",
       "  <th>Prob(Omnibus):</th>  <td> 0.000</td>  <th>  Jarque-Bera (JB):  </th> <td>10670.167</td>\n",
       "</tr>\n",
       "<tr>\n",
       "  <th>Skew:</th>           <td> 1.642</td>  <th>  Prob(JB):          </th> <td>    0.00</td> \n",
       "</tr>\n",
       "<tr>\n",
       "  <th>Kurtosis:</th>       <td> 4.750</td>  <th>  Cond. No.          </th> <td>1.13e+06</td> \n",
       "</tr>\n",
       "</table><br/><br/>Notes:<br/>[1] Standard Errors assume that the covariance matrix of the errors is correctly specified.<br/>[2] The condition number is large, 1.13e+06. This might indicate that there are<br/>strong multicollinearity or other numerical problems."
      ],
      "text/latex": [
       "\\begin{center}\n",
       "\\begin{tabular}{lclc}\n",
       "\\toprule\n",
       "\\textbf{Dep. Variable:}    & Mosquito number  & \\textbf{  R-squared:         } &     0.018   \\\\\n",
       "\\textbf{Model:}            &       OLS        & \\textbf{  Adj. R-squared:    } &     0.018   \\\\\n",
       "\\textbf{Method:}           &  Least Squares   & \\textbf{  F-statistic:       } &     111.2   \\\\\n",
       "\\textbf{Date:}             & Mon, 26 Feb 2024 & \\textbf{  Prob (F-statistic):} &  2.42e-71   \\\\\n",
       "\\textbf{Time:}             &     01:17:19     & \\textbf{  Log-Likelihood:    } &   -74180.   \\\\\n",
       "\\textbf{No. Observations:} &       18495      & \\textbf{  AIC:               } & 1.484e+05   \\\\\n",
       "\\textbf{Df Residuals:}     &       18491      & \\textbf{  BIC:               } & 1.484e+05   \\\\\n",
       "\\textbf{Df Model:}         &           3      & \\textbf{                     } &             \\\\\n",
       "\\textbf{Covariance Type:}  &    nonrobust     & \\textbf{                     } &             \\\\\n",
       "\\bottomrule\n",
       "\\end{tabular}\n",
       "\\begin{tabular}{lcccccc}\n",
       "               & \\textbf{coef} & \\textbf{std err} & \\textbf{t} & \\textbf{P$> |$t$|$} & \\textbf{[0.025} & \\textbf{0.975]}  \\\\\n",
       "\\midrule\n",
       "\\textbf{const} &    -934.1185  &       54.901     &   -17.015  &         0.000        &    -1041.730    &     -826.507     \\\\\n",
       "\\textbf{Year}  &       0.4708  &        0.027     &    17.291  &         0.000        &        0.417    &        0.524     \\\\\n",
       "\\textbf{Week}  &      -0.1552  &        0.074     &    -2.101  &         0.036        &       -0.300    &       -0.010     \\\\\n",
       "\\textbf{Month} &       0.2706  &        0.322     &     0.840  &         0.401        &       -0.361    &        0.902     \\\\\n",
       "\\bottomrule\n",
       "\\end{tabular}\n",
       "\\begin{tabular}{lclc}\n",
       "\\textbf{Omnibus:}       & 5053.221 & \\textbf{  Durbin-Watson:     } &     1.516  \\\\\n",
       "\\textbf{Prob(Omnibus):} &   0.000  & \\textbf{  Jarque-Bera (JB):  } & 10670.167  \\\\\n",
       "\\textbf{Skew:}          &   1.642  & \\textbf{  Prob(JB):          } &      0.00  \\\\\n",
       "\\textbf{Kurtosis:}      &   4.750  & \\textbf{  Cond. No.          } &  1.13e+06  \\\\\n",
       "\\bottomrule\n",
       "\\end{tabular}\n",
       "%\\caption{OLS Regression Results}\n",
       "\\end{center}\n",
       "\n",
       "Notes: \\newline\n",
       " [1] Standard Errors assume that the covariance matrix of the errors is correctly specified. \\newline\n",
       " [2] The condition number is large, 1.13e+06. This might indicate that there are \\newline\n",
       " strong multicollinearity or other numerical problems."
      ],
      "text/plain": [
       "<class 'statsmodels.iolib.summary.Summary'>\n",
       "\"\"\"\n",
       "                            OLS Regression Results                            \n",
       "==============================================================================\n",
       "Dep. Variable:        Mosquito number   R-squared:                       0.018\n",
       "Model:                            OLS   Adj. R-squared:                  0.018\n",
       "Method:                 Least Squares   F-statistic:                     111.2\n",
       "Date:                Mon, 26 Feb 2024   Prob (F-statistic):           2.42e-71\n",
       "Time:                        01:17:19   Log-Likelihood:                -74180.\n",
       "No. Observations:               18495   AIC:                         1.484e+05\n",
       "Df Residuals:                   18491   BIC:                         1.484e+05\n",
       "Df Model:                           3                                         \n",
       "Covariance Type:            nonrobust                                         \n",
       "==============================================================================\n",
       "                 coef    std err          t      P>|t|      [0.025      0.975]\n",
       "------------------------------------------------------------------------------\n",
       "const       -934.1185     54.901    -17.015      0.000   -1041.730    -826.507\n",
       "Year           0.4708      0.027     17.291      0.000       0.417       0.524\n",
       "Week          -0.1552      0.074     -2.101      0.036      -0.300      -0.010\n",
       "Month          0.2706      0.322      0.840      0.401      -0.361       0.902\n",
       "==============================================================================\n",
       "Omnibus:                     5053.221   Durbin-Watson:                   1.516\n",
       "Prob(Omnibus):                  0.000   Jarque-Bera (JB):            10670.167\n",
       "Skew:                           1.642   Prob(JB):                         0.00\n",
       "Kurtosis:                       4.750   Cond. No.                     1.13e+06\n",
       "==============================================================================\n",
       "\n",
       "Notes:\n",
       "[1] Standard Errors assume that the covariance matrix of the errors is correctly specified.\n",
       "[2] The condition number is large, 1.13e+06. This might indicate that there are\n",
       "strong multicollinearity or other numerical problems.\n",
       "\"\"\""
      ]
     },
     "execution_count": 25,
     "metadata": {},
     "output_type": "execute_result"
    }
   ],
   "source": [
    "# 1. Instantiate Model\n",
    "mosquito_number = sm.OLS(y,X_withconstant)\n",
    "\n",
    "# 2. Fit Model\n",
    "mosquito_number_results = mosquito_number.fit()\n",
    "\n",
    "# Look at the summary\n",
    "mosquito_number_results.summary()"
   ]
  },
  {
   "cell_type": "code",
   "execution_count": 26,
   "id": "86205d70",
   "metadata": {},
   "outputs": [],
   "source": [
    "# R-squared value of 0.018 indicates that the modle explains only a small portion of the variance\n",
    "# Positive coefficients for Year and Month suggest that for each one-unit increase, the dependent variable also increases\n",
    "# P-values for all are very low indicating statistical significance"
   ]
  },
  {
   "cell_type": "code",
   "execution_count": 27,
   "id": "7f8d533e",
   "metadata": {},
   "outputs": [],
   "source": [
    "# Reiterated model\n",
    "X = X = df[['Lat', 'Lon',]]\n",
    "y = df['Mosquito number']"
   ]
  },
  {
   "cell_type": "code",
   "execution_count": 28,
   "id": "b49d7957",
   "metadata": {
    "scrolled": true
   },
   "outputs": [
    {
     "data": {
      "text/html": [
       "<div>\n",
       "<style scoped>\n",
       "    .dataframe tbody tr th:only-of-type {\n",
       "        vertical-align: middle;\n",
       "    }\n",
       "\n",
       "    .dataframe tbody tr th {\n",
       "        vertical-align: top;\n",
       "    }\n",
       "\n",
       "    .dataframe thead th {\n",
       "        text-align: right;\n",
       "    }\n",
       "</style>\n",
       "<table border=\"1\" class=\"dataframe\">\n",
       "  <thead>\n",
       "    <tr style=\"text-align: right;\">\n",
       "      <th></th>\n",
       "      <th>const</th>\n",
       "      <th>Lat</th>\n",
       "      <th>Lon</th>\n",
       "    </tr>\n",
       "  </thead>\n",
       "  <tbody>\n",
       "    <tr>\n",
       "      <th>0</th>\n",
       "      <td>1.0</td>\n",
       "      <td>41.977738</td>\n",
       "      <td>-87.880969</td>\n",
       "    </tr>\n",
       "    <tr>\n",
       "      <th>1</th>\n",
       "      <td>1.0</td>\n",
       "      <td>41.798211</td>\n",
       "      <td>-87.736925</td>\n",
       "    </tr>\n",
       "    <tr>\n",
       "      <th>2</th>\n",
       "      <td>1.0</td>\n",
       "      <td>41.987245</td>\n",
       "      <td>-87.689417</td>\n",
       "    </tr>\n",
       "    <tr>\n",
       "      <th>3</th>\n",
       "      <td>1.0</td>\n",
       "      <td>41.953664</td>\n",
       "      <td>-87.724987</td>\n",
       "    </tr>\n",
       "    <tr>\n",
       "      <th>4</th>\n",
       "      <td>1.0</td>\n",
       "      <td>41.657069</td>\n",
       "      <td>-87.546049</td>\n",
       "    </tr>\n",
       "    <tr>\n",
       "      <th>...</th>\n",
       "      <td>...</td>\n",
       "      <td>...</td>\n",
       "      <td>...</td>\n",
       "    </tr>\n",
       "    <tr>\n",
       "      <th>18490</th>\n",
       "      <td>1.0</td>\n",
       "      <td>41.857843</td>\n",
       "      <td>-87.635858</td>\n",
       "    </tr>\n",
       "    <tr>\n",
       "      <th>18491</th>\n",
       "      <td>1.0</td>\n",
       "      <td>41.965376</td>\n",
       "      <td>-87.758403</td>\n",
       "    </tr>\n",
       "    <tr>\n",
       "      <th>18492</th>\n",
       "      <td>1.0</td>\n",
       "      <td>41.662395</td>\n",
       "      <td>-87.590176</td>\n",
       "    </tr>\n",
       "    <tr>\n",
       "      <th>18493</th>\n",
       "      <td>1.0</td>\n",
       "      <td>41.919197</td>\n",
       "      <td>-87.664758</td>\n",
       "    </tr>\n",
       "    <tr>\n",
       "      <th>18494</th>\n",
       "      <td>1.0</td>\n",
       "      <td>41.977738</td>\n",
       "      <td>-87.880969</td>\n",
       "    </tr>\n",
       "  </tbody>\n",
       "</table>\n",
       "<p>18495 rows × 3 columns</p>\n",
       "</div>"
      ],
      "text/plain": [
       "       const        Lat        Lon\n",
       "0        1.0  41.977738 -87.880969\n",
       "1        1.0  41.798211 -87.736925\n",
       "2        1.0  41.987245 -87.689417\n",
       "3        1.0  41.953664 -87.724987\n",
       "4        1.0  41.657069 -87.546049\n",
       "...      ...        ...        ...\n",
       "18490    1.0  41.857843 -87.635858\n",
       "18491    1.0  41.965376 -87.758403\n",
       "18492    1.0  41.662395 -87.590176\n",
       "18493    1.0  41.919197 -87.664758\n",
       "18494    1.0  41.977738 -87.880969\n",
       "\n",
       "[18495 rows x 3 columns]"
      ]
     },
     "execution_count": 28,
     "metadata": {},
     "output_type": "execute_result"
    }
   ],
   "source": [
    "X_withconstant = sm.add_constant(X)\n",
    "X_withconstant"
   ]
  },
  {
   "cell_type": "code",
   "execution_count": 29,
   "id": "c7e4d4e0",
   "metadata": {
    "scrolled": true
   },
   "outputs": [
    {
     "data": {
      "text/html": [
       "<table class=\"simpletable\">\n",
       "<caption>OLS Regression Results</caption>\n",
       "<tr>\n",
       "  <th>Dep. Variable:</th>     <td>Mosquito number</td> <th>  R-squared:         </th> <td>   0.024</td> \n",
       "</tr>\n",
       "<tr>\n",
       "  <th>Model:</th>                   <td>OLS</td>       <th>  Adj. R-squared:    </th> <td>   0.023</td> \n",
       "</tr>\n",
       "<tr>\n",
       "  <th>Method:</th>             <td>Least Squares</td>  <th>  F-statistic:       </th> <td>   223.1</td> \n",
       "</tr>\n",
       "<tr>\n",
       "  <th>Date:</th>             <td>Mon, 26 Feb 2024</td> <th>  Prob (F-statistic):</th> <td>1.81e-96</td> \n",
       "</tr>\n",
       "<tr>\n",
       "  <th>Time:</th>                 <td>01:17:19</td>     <th>  Log-Likelihood:    </th> <td> -74125.</td> \n",
       "</tr>\n",
       "<tr>\n",
       "  <th>No. Observations:</th>      <td> 18495</td>      <th>  AIC:               </th> <td>1.483e+05</td>\n",
       "</tr>\n",
       "<tr>\n",
       "  <th>Df Residuals:</th>          <td> 18492</td>      <th>  BIC:               </th> <td>1.483e+05</td>\n",
       "</tr>\n",
       "<tr>\n",
       "  <th>Df Model:</th>              <td>     2</td>      <th>                     </th>     <td> </td>    \n",
       "</tr>\n",
       "<tr>\n",
       "  <th>Covariance Type:</th>      <td>nonrobust</td>    <th>                     </th>     <td> </td>    \n",
       "</tr>\n",
       "</table>\n",
       "<table class=\"simpletable\">\n",
       "<tr>\n",
       "    <td></td>       <th>coef</th>     <th>std err</th>      <th>t</th>      <th>P>|t|</th>  <th>[0.025</th>    <th>0.975]</th>  \n",
       "</tr>\n",
       "<tr>\n",
       "  <th>const</th> <td>-2032.0394</td> <td>  102.141</td> <td>  -19.894</td> <td> 0.000</td> <td>-2232.246</td> <td>-1831.833</td>\n",
       "</tr>\n",
       "<tr>\n",
       "  <th>Lat</th>   <td>   -4.4362</td> <td>    1.281</td> <td>   -3.462</td> <td> 0.001</td> <td>   -6.948</td> <td>   -1.925</td>\n",
       "</tr>\n",
       "<tr>\n",
       "  <th>Lon</th>   <td>  -25.4078</td> <td>    1.550</td> <td>  -16.391</td> <td> 0.000</td> <td>  -28.446</td> <td>  -22.370</td>\n",
       "</tr>\n",
       "</table>\n",
       "<table class=\"simpletable\">\n",
       "<tr>\n",
       "  <th>Omnibus:</th>       <td>5027.682</td> <th>  Durbin-Watson:     </th> <td>   1.494</td> \n",
       "</tr>\n",
       "<tr>\n",
       "  <th>Prob(Omnibus):</th>  <td> 0.000</td>  <th>  Jarque-Bera (JB):  </th> <td>10597.374</td>\n",
       "</tr>\n",
       "<tr>\n",
       "  <th>Skew:</th>           <td> 1.633</td>  <th>  Prob(JB):          </th> <td>    0.00</td> \n",
       "</tr>\n",
       "<tr>\n",
       "  <th>Kurtosis:</th>       <td> 4.756</td>  <th>  Cond. No.          </th> <td>1.01e+05</td> \n",
       "</tr>\n",
       "</table><br/><br/>Notes:<br/>[1] Standard Errors assume that the covariance matrix of the errors is correctly specified.<br/>[2] The condition number is large, 1.01e+05. This might indicate that there are<br/>strong multicollinearity or other numerical problems."
      ],
      "text/latex": [
       "\\begin{center}\n",
       "\\begin{tabular}{lclc}\n",
       "\\toprule\n",
       "\\textbf{Dep. Variable:}    & Mosquito number  & \\textbf{  R-squared:         } &     0.024   \\\\\n",
       "\\textbf{Model:}            &       OLS        & \\textbf{  Adj. R-squared:    } &     0.023   \\\\\n",
       "\\textbf{Method:}           &  Least Squares   & \\textbf{  F-statistic:       } &     223.1   \\\\\n",
       "\\textbf{Date:}             & Mon, 26 Feb 2024 & \\textbf{  Prob (F-statistic):} &  1.81e-96   \\\\\n",
       "\\textbf{Time:}             &     01:17:19     & \\textbf{  Log-Likelihood:    } &   -74125.   \\\\\n",
       "\\textbf{No. Observations:} &       18495      & \\textbf{  AIC:               } & 1.483e+05   \\\\\n",
       "\\textbf{Df Residuals:}     &       18492      & \\textbf{  BIC:               } & 1.483e+05   \\\\\n",
       "\\textbf{Df Model:}         &           2      & \\textbf{                     } &             \\\\\n",
       "\\textbf{Covariance Type:}  &    nonrobust     & \\textbf{                     } &             \\\\\n",
       "\\bottomrule\n",
       "\\end{tabular}\n",
       "\\begin{tabular}{lcccccc}\n",
       "               & \\textbf{coef} & \\textbf{std err} & \\textbf{t} & \\textbf{P$> |$t$|$} & \\textbf{[0.025} & \\textbf{0.975]}  \\\\\n",
       "\\midrule\n",
       "\\textbf{const} &   -2032.0394  &      102.141     &   -19.894  &         0.000        &    -2232.246    &    -1831.833     \\\\\n",
       "\\textbf{Lat}   &      -4.4362  &        1.281     &    -3.462  &         0.001        &       -6.948    &       -1.925     \\\\\n",
       "\\textbf{Lon}   &     -25.4078  &        1.550     &   -16.391  &         0.000        &      -28.446    &      -22.370     \\\\\n",
       "\\bottomrule\n",
       "\\end{tabular}\n",
       "\\begin{tabular}{lclc}\n",
       "\\textbf{Omnibus:}       & 5027.682 & \\textbf{  Durbin-Watson:     } &     1.494  \\\\\n",
       "\\textbf{Prob(Omnibus):} &   0.000  & \\textbf{  Jarque-Bera (JB):  } & 10597.374  \\\\\n",
       "\\textbf{Skew:}          &   1.633  & \\textbf{  Prob(JB):          } &      0.00  \\\\\n",
       "\\textbf{Kurtosis:}      &   4.756  & \\textbf{  Cond. No.          } &  1.01e+05  \\\\\n",
       "\\bottomrule\n",
       "\\end{tabular}\n",
       "%\\caption{OLS Regression Results}\n",
       "\\end{center}\n",
       "\n",
       "Notes: \\newline\n",
       " [1] Standard Errors assume that the covariance matrix of the errors is correctly specified. \\newline\n",
       " [2] The condition number is large, 1.01e+05. This might indicate that there are \\newline\n",
       " strong multicollinearity or other numerical problems."
      ],
      "text/plain": [
       "<class 'statsmodels.iolib.summary.Summary'>\n",
       "\"\"\"\n",
       "                            OLS Regression Results                            \n",
       "==============================================================================\n",
       "Dep. Variable:        Mosquito number   R-squared:                       0.024\n",
       "Model:                            OLS   Adj. R-squared:                  0.023\n",
       "Method:                 Least Squares   F-statistic:                     223.1\n",
       "Date:                Mon, 26 Feb 2024   Prob (F-statistic):           1.81e-96\n",
       "Time:                        01:17:19   Log-Likelihood:                -74125.\n",
       "No. Observations:               18495   AIC:                         1.483e+05\n",
       "Df Residuals:                   18492   BIC:                         1.483e+05\n",
       "Df Model:                           2                                         \n",
       "Covariance Type:            nonrobust                                         \n",
       "==============================================================================\n",
       "                 coef    std err          t      P>|t|      [0.025      0.975]\n",
       "------------------------------------------------------------------------------\n",
       "const      -2032.0394    102.141    -19.894      0.000   -2232.246   -1831.833\n",
       "Lat           -4.4362      1.281     -3.462      0.001      -6.948      -1.925\n",
       "Lon          -25.4078      1.550    -16.391      0.000     -28.446     -22.370\n",
       "==============================================================================\n",
       "Omnibus:                     5027.682   Durbin-Watson:                   1.494\n",
       "Prob(Omnibus):                  0.000   Jarque-Bera (JB):            10597.374\n",
       "Skew:                           1.633   Prob(JB):                         0.00\n",
       "Kurtosis:                       4.756   Cond. No.                     1.01e+05\n",
       "==============================================================================\n",
       "\n",
       "Notes:\n",
       "[1] Standard Errors assume that the covariance matrix of the errors is correctly specified.\n",
       "[2] The condition number is large, 1.01e+05. This might indicate that there are\n",
       "strong multicollinearity or other numerical problems.\n",
       "\"\"\""
      ]
     },
     "execution_count": 29,
     "metadata": {},
     "output_type": "execute_result"
    }
   ],
   "source": [
    "# 1. Instantiate Model\n",
    "mosquito_number = sm.OLS(y,X_withconstant)\n",
    "\n",
    "# 2. Fit Model\n",
    "mosquito_number_results = mosquito_number.fit()\n",
    "\n",
    "# Look at the summary\n",
    "mosquito_number_results.summary()"
   ]
  },
  {
   "cell_type": "code",
   "execution_count": 30,
   "id": "89ec76a5",
   "metadata": {},
   "outputs": [],
   "source": [
    "# R-squared value of 0.024 indicates the model explain a small portion of the variance in the dependent variable\n",
    "# P-values are very low indicating statistical significance\n",
    "# Negative coefficient values for 'Lat' and 'Lon' suggest negative relationship between these variables and the number of mosquitoes caught"
   ]
  },
  {
   "cell_type": "markdown",
   "id": "60f32e31",
   "metadata": {},
   "source": [
    "#### Question 2 - Run a logistic regression to determine how the independent variables affect West Nile Virus presence. Explain your model construction process. Analyze the model and the results and discuss the model’s limitations. This may end up being an iterative process."
   ]
  },
  {
   "cell_type": "code",
   "execution_count": 55,
   "id": "dcf0208c",
   "metadata": {},
   "outputs": [],
   "source": [
    "# Wanted to use 'Species' as an X variable but kept getting ValueError: Pandas data cast to numpy dtype of object. Check input data with np.asarray(data).\n",
    "# If you could include solution to this error in write up would be greatly appreciated"
   ]
  },
  {
   "cell_type": "code",
   "execution_count": 38,
   "id": "8d6d7437",
   "metadata": {},
   "outputs": [],
   "source": [
    "# Separate data into dependent and independent variables\n",
    "X = df[['Year', 'Week', 'Month']]\n",
    "y = df['WNV_Binary']"
   ]
  },
  {
   "cell_type": "code",
   "execution_count": 39,
   "id": "7abfe450",
   "metadata": {
    "scrolled": true
   },
   "outputs": [
    {
     "data": {
      "text/html": [
       "<div>\n",
       "<style scoped>\n",
       "    .dataframe tbody tr th:only-of-type {\n",
       "        vertical-align: middle;\n",
       "    }\n",
       "\n",
       "    .dataframe tbody tr th {\n",
       "        vertical-align: top;\n",
       "    }\n",
       "\n",
       "    .dataframe thead th {\n",
       "        text-align: right;\n",
       "    }\n",
       "</style>\n",
       "<table border=\"1\" class=\"dataframe\">\n",
       "  <thead>\n",
       "    <tr style=\"text-align: right;\">\n",
       "      <th></th>\n",
       "      <th>const</th>\n",
       "      <th>Year</th>\n",
       "      <th>Week</th>\n",
       "      <th>Month</th>\n",
       "    </tr>\n",
       "  </thead>\n",
       "  <tbody>\n",
       "    <tr>\n",
       "      <th>0</th>\n",
       "      <td>1.0</td>\n",
       "      <td>2019</td>\n",
       "      <td>39</td>\n",
       "      <td>9</td>\n",
       "    </tr>\n",
       "    <tr>\n",
       "      <th>1</th>\n",
       "      <td>1.0</td>\n",
       "      <td>2019</td>\n",
       "      <td>39</td>\n",
       "      <td>9</td>\n",
       "    </tr>\n",
       "    <tr>\n",
       "      <th>2</th>\n",
       "      <td>1.0</td>\n",
       "      <td>2019</td>\n",
       "      <td>39</td>\n",
       "      <td>9</td>\n",
       "    </tr>\n",
       "    <tr>\n",
       "      <th>3</th>\n",
       "      <td>1.0</td>\n",
       "      <td>2019</td>\n",
       "      <td>39</td>\n",
       "      <td>9</td>\n",
       "    </tr>\n",
       "    <tr>\n",
       "      <th>4</th>\n",
       "      <td>1.0</td>\n",
       "      <td>2019</td>\n",
       "      <td>39</td>\n",
       "      <td>9</td>\n",
       "    </tr>\n",
       "  </tbody>\n",
       "</table>\n",
       "</div>"
      ],
      "text/plain": [
       "   const  Year  Week  Month\n",
       "0    1.0  2019    39      9\n",
       "1    1.0  2019    39      9\n",
       "2    1.0  2019    39      9\n",
       "3    1.0  2019    39      9\n",
       "4    1.0  2019    39      9"
      ]
     },
     "execution_count": 39,
     "metadata": {},
     "output_type": "execute_result"
    }
   ],
   "source": [
    "# Manually add intercept\n",
    "X_withconstant = sm.add_constant(X)\n",
    "X_withconstant.head()"
   ]
  },
  {
   "cell_type": "code",
   "execution_count": 40,
   "id": "205af98b",
   "metadata": {
    "scrolled": true
   },
   "outputs": [
    {
     "name": "stdout",
     "output_type": "stream",
     "text": [
      "Optimization terminated successfully.\n",
      "         Current function value: 0.492520\n",
      "         Iterations 7\n"
     ]
    },
    {
     "data": {
      "text/html": [
       "<table class=\"simpletable\">\n",
       "<caption>Logit Regression Results</caption>\n",
       "<tr>\n",
       "  <th>Dep. Variable:</th>      <td>WNV_Binary</td>    <th>  No. Observations:  </th>   <td> 18495</td>  \n",
       "</tr>\n",
       "<tr>\n",
       "  <th>Model:</th>                 <td>Logit</td>      <th>  Df Residuals:      </th>   <td> 18491</td>  \n",
       "</tr>\n",
       "<tr>\n",
       "  <th>Method:</th>                 <td>MLE</td>       <th>  Df Model:          </th>   <td>     3</td>  \n",
       "</tr>\n",
       "<tr>\n",
       "  <th>Date:</th>            <td>Mon, 26 Feb 2024</td> <th>  Pseudo R-squ.:     </th>   <td>0.05599</td> \n",
       "</tr>\n",
       "<tr>\n",
       "  <th>Time:</th>                <td>01:22:39</td>     <th>  Log-Likelihood:    </th>  <td> -9109.2</td> \n",
       "</tr>\n",
       "<tr>\n",
       "  <th>converged:</th>             <td>True</td>       <th>  LL-Null:           </th>  <td> -9649.5</td> \n",
       "</tr>\n",
       "<tr>\n",
       "  <th>Covariance Type:</th>     <td>nonrobust</td>    <th>  LLR p-value:       </th> <td>5.775e-234</td>\n",
       "</tr>\n",
       "</table>\n",
       "<table class=\"simpletable\">\n",
       "<tr>\n",
       "    <td></td>       <th>coef</th>     <th>std err</th>      <th>z</th>      <th>P>|z|</th>  <th>[0.025</th>    <th>0.975]</th>  \n",
       "</tr>\n",
       "<tr>\n",
       "  <th>const</th> <td> -237.8296</td> <td>   10.657</td> <td>  -22.317</td> <td> 0.000</td> <td> -258.717</td> <td> -216.942</td>\n",
       "</tr>\n",
       "<tr>\n",
       "  <th>Year</th>  <td>    0.1157</td> <td>    0.005</td> <td>   21.916</td> <td> 0.000</td> <td>    0.105</td> <td>    0.126</td>\n",
       "</tr>\n",
       "<tr>\n",
       "  <th>Week</th>  <td>    0.0616</td> <td>    0.014</td> <td>    4.369</td> <td> 0.000</td> <td>    0.034</td> <td>    0.089</td>\n",
       "</tr>\n",
       "<tr>\n",
       "  <th>Month</th> <td>    0.2136</td> <td>    0.061</td> <td>    3.481</td> <td> 0.000</td> <td>    0.093</td> <td>    0.334</td>\n",
       "</tr>\n",
       "</table>"
      ],
      "text/latex": [
       "\\begin{center}\n",
       "\\begin{tabular}{lclc}\n",
       "\\toprule\n",
       "\\textbf{Dep. Variable:}   &   WNV\\_Binary    & \\textbf{  No. Observations:  } &    18495    \\\\\n",
       "\\textbf{Model:}           &      Logit       & \\textbf{  Df Residuals:      } &    18491    \\\\\n",
       "\\textbf{Method:}          &       MLE        & \\textbf{  Df Model:          } &        3    \\\\\n",
       "\\textbf{Date:}            & Mon, 26 Feb 2024 & \\textbf{  Pseudo R-squ.:     } &  0.05599    \\\\\n",
       "\\textbf{Time:}            &     01:22:39     & \\textbf{  Log-Likelihood:    } &   -9109.2   \\\\\n",
       "\\textbf{converged:}       &       True       & \\textbf{  LL-Null:           } &   -9649.5   \\\\\n",
       "\\textbf{Covariance Type:} &    nonrobust     & \\textbf{  LLR p-value:       } & 5.775e-234  \\\\\n",
       "\\bottomrule\n",
       "\\end{tabular}\n",
       "\\begin{tabular}{lcccccc}\n",
       "               & \\textbf{coef} & \\textbf{std err} & \\textbf{z} & \\textbf{P$> |$z$|$} & \\textbf{[0.025} & \\textbf{0.975]}  \\\\\n",
       "\\midrule\n",
       "\\textbf{const} &    -237.8296  &       10.657     &   -22.317  &         0.000        &     -258.717    &     -216.942     \\\\\n",
       "\\textbf{Year}  &       0.1157  &        0.005     &    21.916  &         0.000        &        0.105    &        0.126     \\\\\n",
       "\\textbf{Week}  &       0.0616  &        0.014     &     4.369  &         0.000        &        0.034    &        0.089     \\\\\n",
       "\\textbf{Month} &       0.2136  &        0.061     &     3.481  &         0.000        &        0.093    &        0.334     \\\\\n",
       "\\bottomrule\n",
       "\\end{tabular}\n",
       "%\\caption{Logit Regression Results}\n",
       "\\end{center}"
      ],
      "text/plain": [
       "<class 'statsmodels.iolib.summary.Summary'>\n",
       "\"\"\"\n",
       "                           Logit Regression Results                           \n",
       "==============================================================================\n",
       "Dep. Variable:             WNV_Binary   No. Observations:                18495\n",
       "Model:                          Logit   Df Residuals:                    18491\n",
       "Method:                           MLE   Df Model:                            3\n",
       "Date:                Mon, 26 Feb 2024   Pseudo R-squ.:                 0.05599\n",
       "Time:                        01:22:39   Log-Likelihood:                -9109.2\n",
       "converged:                       True   LL-Null:                       -9649.5\n",
       "Covariance Type:            nonrobust   LLR p-value:                5.775e-234\n",
       "==============================================================================\n",
       "                 coef    std err          z      P>|z|      [0.025      0.975]\n",
       "------------------------------------------------------------------------------\n",
       "const       -237.8296     10.657    -22.317      0.000    -258.717    -216.942\n",
       "Year           0.1157      0.005     21.916      0.000       0.105       0.126\n",
       "Week           0.0616      0.014      4.369      0.000       0.034       0.089\n",
       "Month          0.2136      0.061      3.481      0.000       0.093       0.334\n",
       "==============================================================================\n",
       "\"\"\""
      ]
     },
     "execution_count": 40,
     "metadata": {},
     "output_type": "execute_result"
    }
   ],
   "source": [
    "# 1. Instantiate model\n",
    "mylogreg = sm.Logit(y, X_withconstant)\n",
    "\n",
    "#2. Fit the model\n",
    "mylogreg_results = mylogreg.fit()\n",
    "\n",
    "# Summarize\n",
    "mylogreg_results.summary()"
   ]
  },
  {
   "cell_type": "code",
   "execution_count": null,
   "id": "f42b1573",
   "metadata": {},
   "outputs": [],
   "source": [
    "# Psuedo R-squared values indicates thatthe model explain approximately 5.6% of the variability inthe binary outcome variable\n",
    "# The coefficients are statistically significant suggesting that the independent variables have a significant impact on West Nile Virus presences\n",
    "# P-values are low indicating statistical significance\n",
    "# Low Pseudo R-squared is relatively low, suggesting there are other more related factors that influence West Nile Virus Presence"
   ]
  },
  {
   "cell_type": "code",
   "execution_count": 52,
   "id": "1ff1b5b9",
   "metadata": {},
   "outputs": [],
   "source": [
    "# Reiterated model\n",
    "X = df[['Lat', 'Lon']]\n",
    "y = df['WNV_Binary']"
   ]
  },
  {
   "cell_type": "code",
   "execution_count": 53,
   "id": "424a7917",
   "metadata": {
    "scrolled": true
   },
   "outputs": [
    {
     "data": {
      "text/html": [
       "<div>\n",
       "<style scoped>\n",
       "    .dataframe tbody tr th:only-of-type {\n",
       "        vertical-align: middle;\n",
       "    }\n",
       "\n",
       "    .dataframe tbody tr th {\n",
       "        vertical-align: top;\n",
       "    }\n",
       "\n",
       "    .dataframe thead th {\n",
       "        text-align: right;\n",
       "    }\n",
       "</style>\n",
       "<table border=\"1\" class=\"dataframe\">\n",
       "  <thead>\n",
       "    <tr style=\"text-align: right;\">\n",
       "      <th></th>\n",
       "      <th>const</th>\n",
       "      <th>Lat</th>\n",
       "      <th>Lon</th>\n",
       "    </tr>\n",
       "  </thead>\n",
       "  <tbody>\n",
       "    <tr>\n",
       "      <th>0</th>\n",
       "      <td>1.0</td>\n",
       "      <td>41.977738</td>\n",
       "      <td>-87.880969</td>\n",
       "    </tr>\n",
       "    <tr>\n",
       "      <th>1</th>\n",
       "      <td>1.0</td>\n",
       "      <td>41.798211</td>\n",
       "      <td>-87.736925</td>\n",
       "    </tr>\n",
       "    <tr>\n",
       "      <th>2</th>\n",
       "      <td>1.0</td>\n",
       "      <td>41.987245</td>\n",
       "      <td>-87.689417</td>\n",
       "    </tr>\n",
       "    <tr>\n",
       "      <th>3</th>\n",
       "      <td>1.0</td>\n",
       "      <td>41.953664</td>\n",
       "      <td>-87.724987</td>\n",
       "    </tr>\n",
       "    <tr>\n",
       "      <th>4</th>\n",
       "      <td>1.0</td>\n",
       "      <td>41.657069</td>\n",
       "      <td>-87.546049</td>\n",
       "    </tr>\n",
       "  </tbody>\n",
       "</table>\n",
       "</div>"
      ],
      "text/plain": [
       "   const        Lat        Lon\n",
       "0    1.0  41.977738 -87.880969\n",
       "1    1.0  41.798211 -87.736925\n",
       "2    1.0  41.987245 -87.689417\n",
       "3    1.0  41.953664 -87.724987\n",
       "4    1.0  41.657069 -87.546049"
      ]
     },
     "execution_count": 53,
     "metadata": {},
     "output_type": "execute_result"
    }
   ],
   "source": [
    "# Manually add intercept\n",
    "X_withconstant = sm.add_constant(X)\n",
    "X_withconstant.head()"
   ]
  },
  {
   "cell_type": "code",
   "execution_count": 54,
   "id": "96e4fa44",
   "metadata": {
    "scrolled": false
   },
   "outputs": [
    {
     "name": "stdout",
     "output_type": "stream",
     "text": [
      "Optimization terminated successfully.\n",
      "         Current function value: 0.508216\n",
      "         Iterations 7\n"
     ]
    },
    {
     "data": {
      "text/html": [
       "<table class=\"simpletable\">\n",
       "<caption>Logit Regression Results</caption>\n",
       "<tr>\n",
       "  <th>Dep. Variable:</th>      <td>WNV_Binary</td>    <th>  No. Observations:  </th>   <td> 18495</td>  \n",
       "</tr>\n",
       "<tr>\n",
       "  <th>Model:</th>                 <td>Logit</td>      <th>  Df Residuals:      </th>   <td> 18492</td>  \n",
       "</tr>\n",
       "<tr>\n",
       "  <th>Method:</th>                 <td>MLE</td>       <th>  Df Model:          </th>   <td>     2</td>  \n",
       "</tr>\n",
       "<tr>\n",
       "  <th>Date:</th>            <td>Mon, 26 Feb 2024</td> <th>  Pseudo R-squ.:     </th>   <td>0.02591</td> \n",
       "</tr>\n",
       "<tr>\n",
       "  <th>Time:</th>                <td>01:35:17</td>     <th>  Log-Likelihood:    </th>  <td> -9399.5</td> \n",
       "</tr>\n",
       "<tr>\n",
       "  <th>converged:</th>             <td>True</td>       <th>  LL-Null:           </th>  <td> -9649.5</td> \n",
       "</tr>\n",
       "<tr>\n",
       "  <th>Covariance Type:</th>     <td>nonrobust</td>    <th>  LLR p-value:       </th> <td>2.629e-109</td>\n",
       "</tr>\n",
       "</table>\n",
       "<table class=\"simpletable\">\n",
       "<tr>\n",
       "    <td></td>       <th>coef</th>     <th>std err</th>      <th>z</th>      <th>P>|z|</th>  <th>[0.025</th>    <th>0.975]</th>  \n",
       "</tr>\n",
       "<tr>\n",
       "  <th>const</th> <td> -386.7928</td> <td>   18.747</td> <td>  -20.632</td> <td> 0.000</td> <td> -423.536</td> <td> -350.049</td>\n",
       "</tr>\n",
       "<tr>\n",
       "  <th>Lat</th>   <td>   -0.5434</td> <td>    0.245</td> <td>   -2.222</td> <td> 0.026</td> <td>   -1.023</td> <td>   -0.064</td>\n",
       "</tr>\n",
       "<tr>\n",
       "  <th>Lon</th>   <td>   -4.6538</td> <td>    0.287</td> <td>  -16.218</td> <td> 0.000</td> <td>   -5.216</td> <td>   -4.091</td>\n",
       "</tr>\n",
       "</table>"
      ],
      "text/latex": [
       "\\begin{center}\n",
       "\\begin{tabular}{lclc}\n",
       "\\toprule\n",
       "\\textbf{Dep. Variable:}   &   WNV\\_Binary    & \\textbf{  No. Observations:  } &    18495    \\\\\n",
       "\\textbf{Model:}           &      Logit       & \\textbf{  Df Residuals:      } &    18492    \\\\\n",
       "\\textbf{Method:}          &       MLE        & \\textbf{  Df Model:          } &        2    \\\\\n",
       "\\textbf{Date:}            & Mon, 26 Feb 2024 & \\textbf{  Pseudo R-squ.:     } &  0.02591    \\\\\n",
       "\\textbf{Time:}            &     01:35:17     & \\textbf{  Log-Likelihood:    } &   -9399.5   \\\\\n",
       "\\textbf{converged:}       &       True       & \\textbf{  LL-Null:           } &   -9649.5   \\\\\n",
       "\\textbf{Covariance Type:} &    nonrobust     & \\textbf{  LLR p-value:       } & 2.629e-109  \\\\\n",
       "\\bottomrule\n",
       "\\end{tabular}\n",
       "\\begin{tabular}{lcccccc}\n",
       "               & \\textbf{coef} & \\textbf{std err} & \\textbf{z} & \\textbf{P$> |$z$|$} & \\textbf{[0.025} & \\textbf{0.975]}  \\\\\n",
       "\\midrule\n",
       "\\textbf{const} &    -386.7928  &       18.747     &   -20.632  &         0.000        &     -423.536    &     -350.049     \\\\\n",
       "\\textbf{Lat}   &      -0.5434  &        0.245     &    -2.222  &         0.026        &       -1.023    &       -0.064     \\\\\n",
       "\\textbf{Lon}   &      -4.6538  &        0.287     &   -16.218  &         0.000        &       -5.216    &       -4.091     \\\\\n",
       "\\bottomrule\n",
       "\\end{tabular}\n",
       "%\\caption{Logit Regression Results}\n",
       "\\end{center}"
      ],
      "text/plain": [
       "<class 'statsmodels.iolib.summary.Summary'>\n",
       "\"\"\"\n",
       "                           Logit Regression Results                           \n",
       "==============================================================================\n",
       "Dep. Variable:             WNV_Binary   No. Observations:                18495\n",
       "Model:                          Logit   Df Residuals:                    18492\n",
       "Method:                           MLE   Df Model:                            2\n",
       "Date:                Mon, 26 Feb 2024   Pseudo R-squ.:                 0.02591\n",
       "Time:                        01:35:17   Log-Likelihood:                -9399.5\n",
       "converged:                       True   LL-Null:                       -9649.5\n",
       "Covariance Type:            nonrobust   LLR p-value:                2.629e-109\n",
       "==============================================================================\n",
       "                 coef    std err          z      P>|z|      [0.025      0.975]\n",
       "------------------------------------------------------------------------------\n",
       "const       -386.7928     18.747    -20.632      0.000    -423.536    -350.049\n",
       "Lat           -0.5434      0.245     -2.222      0.026      -1.023      -0.064\n",
       "Lon           -4.6538      0.287    -16.218      0.000      -5.216      -4.091\n",
       "==============================================================================\n",
       "\"\"\""
      ]
     },
     "execution_count": 54,
     "metadata": {},
     "output_type": "execute_result"
    }
   ],
   "source": [
    "# 1. Instantiate model\n",
    "mylogreg = sm.Logit(y, X_withconstant)\n",
    "\n",
    "#2. Fit the model\n",
    "mylogreg_results = mylogreg.fit()\n",
    "\n",
    "# Summarize\n",
    "mylogreg_results.summary()"
   ]
  },
  {
   "cell_type": "code",
   "execution_count": null,
   "id": "1193bcaa",
   "metadata": {},
   "outputs": [],
   "source": [
    "# Pseudo R-squared value indicates the model explains approximately 2.6% of the variability\n",
    "# Coefficients are statistically significant, suggesting that the independnet variables have significant impact on the log-odds of West Nile Virus presences\n",
    "# Model doesnt explain much as indicated by low Presudo R-squared value, may be better unaccounted factors\n",
    "# Model does not provide insights into causation and only identifies associations"
   ]
  }
 ],
 "metadata": {
  "kernelspec": {
   "display_name": "Python 3 (ipykernel)",
   "language": "python",
   "name": "python3"
  },
  "language_info": {
   "codemirror_mode": {
    "name": "ipython",
    "version": 3
   },
   "file_extension": ".py",
   "mimetype": "text/x-python",
   "name": "python",
   "nbconvert_exporter": "python",
   "pygments_lexer": "ipython3",
   "version": "3.11.5"
  }
 },
 "nbformat": 4,
 "nbformat_minor": 5
}
